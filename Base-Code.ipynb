{
 "cells": [
  {
   "cell_type": "markdown",
   "metadata": {},
   "source": [
    "### Location Input"
   ]
  },
  {
   "cell_type": "code",
   "execution_count": 1,
   "metadata": {},
   "outputs": [
    {
     "data": {
      "text/plain": [
       "{'lat': 24.1989544, 'lng': 82.6676209}"
      ]
     },
     "execution_count": 1,
     "metadata": {},
     "output_type": "execute_result"
    }
   ],
   "source": [
    "import googlemaps\n",
    "import os\n",
    "\n",
    "# User Input with autocomplete using Google Maps API\n",
    "def get_location():\n",
    "    API_KEY = os.environ.get('GOOGLE_MAPS_API_KEY')\n",
    "    gmaps = googlemaps.Client(key=API_KEY)\n",
    "    geocordinates = gmaps.geocode(input('Enter your location: '))[0]['geometry']['location']\n",
    "    return geocordinates\n",
    "get_location()\n"
   ]
  },
  {
   "cell_type": "code",
   "execution_count": 2,
   "metadata": {},
   "outputs": [
    {
     "data": {
      "text/plain": [
       "'Testing the function'"
      ]
     },
     "execution_count": 2,
     "metadata": {},
     "output_type": "execute_result"
    }
   ],
   "source": [
    "\"\"\"Testing the function\"\"\"\n",
    "# data = [{'address_components': [{'long_name': 'Singrauli', 'short_name': 'Singrauli', 'types': ['locality', 'political']}, {'long_name': 'Singrauli', 'short_name': 'Singrauli', 'types': ['administrative_area_level_3', 'political']}, {'long_name': 'Rewa Division', 'short_name': 'Rewa Division', 'types': ['administrative_area_level_2', 'political']}, {'long_name': 'Madhya Pradesh', 'short_name': 'MP', 'types': ['administrative_area_level_1', 'political']}, {'long_name': 'India', 'short_name': 'IN', 'types': ['country', 'political']}], 'formatted_address': 'Singrauli, Madhya Pradesh, India', 'geometry': {'bounds': {'northeast': {'lat': 24.2109604, 'lng': 82.6867104}, 'southwest': {'lat': 24.1869257, 'lng': 82.6352118}}, 'location': {'lat': 24.1989544, 'lng': 82.6676209}, 'location_type': 'APPROXIMATE', 'viewport': {'northeast': {'lat': 24.2109604, 'lng': 82.6867104}, 'southwest': {'lat': 24.1869257, 'lng': 82.6352118}}}, 'place_id': 'ChIJgf8xwzU6jzkR-sONorrkAAU', 'types': ['locality', 'political']}]\n",
    "\n",
    "# geocordinates = data[0]['geometry']['location']"
   ]
  },
  {
   "cell_type": "code",
   "execution_count": 9,
   "metadata": {},
   "outputs": [],
   "source": [
    "# Date and Time Input\n",
    "from datetime import datetime\n",
    "def get_date_time(message='Enter date (YYYY-MM-DD):'):\n",
    "    date = input(message)\n",
    "    return date"
   ]
  },
  {
   "cell_type": "markdown",
   "metadata": {},
   "source": [
    "### Hourly Variables\n",
    "| Variable                            | Impact on Weather or Climate                                                                                                           |\n",
    "|-------------------------------------|-----------------------------------------------------------------------------------------------------------------------------------------|\n",
    "| Temperature (2 m)                   | Directly affects evaporation rates, air density, and influences overall weather patterns and climate.                                   |\n",
    "| Relative Humidity (2 m)             | Determines moisture in the air, influencing precipitation potential and perceived comfort levels.                                       |\n",
    "| Dewpoint (2 m)                      | Indicates moisture saturation; when reached, it leads to cloud formation and potential precipitation.                                   |\n",
    "| Apparent Temperature                | Reflects perceived temperature by combining actual temperature and humidity, affecting how organisms experience weather.                |\n",
    "| Precipitation (rain + snow)         | Supplies water to ecosystems, influences soil moisture, and drives hydrological processes.                                              |\n",
    "| Rain                                | Critical for agriculture, water resources, and vegetation growth, affecting local and regional climates.                                |\n",
    "| Snowfall                            | Contributes to snowpack and water reserves, with implications for winter sports and ecosystem health.                                   |\n",
    "| Snow depth                          | Influences road conditions, agriculture, and overall water availability upon melting.                                                   |\n",
    "| Weather code                        | Summarizes prevailing conditions, offering quick reference to weather patterns and potential climate impacts.                           |\n",
    "| Sealevel Pressure                   | Affects wind formation and large-scale weather systems, driving movements of air masses.                                                 |\n",
    "| Surface Pressure                    | Influences local wind patterns and can signal approaching weather systems or changes.                                                    |\n",
    "| Cloud cover Total                   | Modulates solar radiation, temperature, and can indicate the likelihood of precipitation.                                                |\n",
    "| Cloud cover Low                     | Influences near-surface temperatures and local precipitation events.                                                                    |\n",
    "| Cloud cover Mid                     | Affects weather system development and mid-level atmospheric conditions.                                                                 |\n",
    "| Cloud cover High                    | Impacts radiation balance and can signal approaching large-scale weather changes.                                                        |\n",
    "| Reference Evapotranspiration (ET₀) | Guides water management in agriculture, indicating how much water crops need based on atmospheric conditions.                            |\n",
    "| Vapour Pressure Deficit             | Shows the atmosphere’s drying power; higher values increase plant water demand and evaporation.                                          |\n",
    "| Wind Speed (10 m)                   | Affects local weather conditions, air dispersion, and can impact transportation and outdoor activities.                                 |\n",
    "| Wind Speed (100 m)                  | Important for wind energy assessments and forecasting broader weather systems.                                                           |\n",
    "| Wind Direction (10 m)               | Drives local weather patterns and pollution dispersion.                                                                                 |\n",
    "| Wind Direction (100 m)              | Influences large-scale weather systems and is relevant to aviation.                                                                     |\n",
    "| Wind Gusts (10 m)                   | Can cause sudden changes in conditions, affecting outdoor safety and infrastructure.                                                    |\n",
    "| Soil Temperature (0-7 cm)           | Impacts seed germination, microbial activity, and plant emergence.                                                                      |\n",
    "| Soil Temperature (7-28 cm)          | Influences root development and nutrient cycling in deeper soil layers.                                                                 |\n",
    "| Soil Temperature (28-100 cm)        | Affects growth of deep-rooted plants, moderating soil processes over time.                                                              |\n",
    "| Soil Temperature (100-255 cm)       | Plays a role in groundwater recharge and long-term soil and climatic interactions.                                                      |\n",
    "| Soil Moisture (0-7 cm)              | Critical for surface runoff, plant water availability, and soil erosion processes.                                                      |\n",
    "| Soil Moisture (7-28 cm)             | Influences root uptake, plant stress, and evaporation rates.                                                                            |\n",
    "| Soil Moisture (28-100 cm)           | Affects water availability for deeper root systems and soil water storage capacity.                                                     |\n",
    "| Soil Moisture (100-255 cm)          | Helps maintain long-term moisture reserves, impacting groundwater and broader climate feedbacks.                                        |\n"
   ]
  },
  {
   "cell_type": "code",
   "execution_count": 4,
   "metadata": {},
   "outputs": [],
   "source": [
    "base_url = \"https://archive-api.open-meteo.com/v1/archive?\"\n",
    "\n",
    "# Hourly weather data\n",
    "def get_hourly_weather_data(geocordinates, start_date, end_date):\n",
    "    hourly_variables = [\n",
    "        \"temperature_2m\",\n",
    "        \"relative_humidity_2m\",\n",
    "        \"dewpoint_2m\",\n",
    "        \"apparent_temperature\",\n",
    "        \"precipitation\",\n",
    "        \"rain\",\n",
    "        \"snowfall\",\n",
    "        \"snow_depth\",\n",
    "        \"weather_code\",\n",
    "        \"pressure_msl\",\n",
    "        \"surface_pressure\",\n",
    "        \"cloud_cover\",\n",
    "        \"cloud_cover_low\",\n",
    "        \"cloud_cover_mid\", \n",
    "        \"cloud_cover_high\",\n",
    "        \"et0_fao_evapotranspiration\",\n",
    "        \"vapour_pressure_deficit\",\n",
    "        \"wind_speed_10m\",\n",
    "        \"wind_speed_100m\", \n",
    "        \"wind_direction_10m\",\n",
    "        \"wind_direction_100m\",\n",
    "        \"wind_gusts_10m\",\n",
    "        \"soil_temperature_0_to_7cm\",\n",
    "        \"soil_temperature_7_to_28cm\",\n",
    "        \"soil_temperature_28_to_100cm\",\n",
    "        \"soil_temperature_100_to_255cm\",\n",
    "        \"soil_moisture_0_to_7cm\",\n",
    "        \"soil_moisture_7_to_28cm\",\n",
    "        \"soil_moisture_28_to_100cm\",\n",
    "        \"soil_moisture_100_to_255cm\"\n",
    "    ]\n",
    "\n",
    "    url = base_url\n",
    "    print(\"Start Date should be less than End Date\\n\")\n",
    "    latitude = geocordinates['lat']\n",
    "    longitude = geocordinates['lng']\n",
    "\n",
    "    # https://archive-api.open-meteo.com/v1/archive?latitude=24.1997&longitude=82.6753&start_date=2010-01-01&end_date=2019-12-31&hourly=et0_fao_evapotranspiration,wind_direction_100m,soil_moisture_100_to_255cm&daily=weather_code,temperature_2m_max,temperature_2m_min,sunrise,sunset,daylight_duration,precipitation_sum,rain_sum,et0_fao_evapotranspiration&timezone=GMT&models=best_match\n",
    "    \n",
    "    # Parameters with specific group of variables for hourly data for specific type of trend the user wants to see\n",
    "    url += f\"latitude={latitude}&longitude={longitude}&start_date={start_date}&end_date={end_date}&hourly=\"\n",
    "    for variable in hourly_variables:\n",
    "        url += variable + \",\"\n",
    "    \n",
    "    url += \"&timezone=GMT&models=best_match\"\n",
    "    return url\n",
    "        \n",
    "\n",
    "\n",
    "    "
   ]
  },
  {
   "cell_type": "markdown",
   "metadata": {},
   "source": [
    "## Daily Variables\n",
    "| Variable                            | Impact on Weather or Climate                                                                                                           |\n",
    "|-------------------------------------|-----------------------------------------------------------------------------------------------------------------------------------------|\n",
    "| Weather code                        | Describes the overall weather conditions, aiding in forecasting and climate analysis.                                                 |\n",
    "| Maximum Temperature (2 m)           | Indicates the highest temperature reached, affecting heatwaves and energy consumption.                                               |\n",
    "| Minimum Temperature (2 m)           | Indicates the lowest temperature achieved, impacting frost formation and agriculture.                                                |\n",
    "| Mean Temperature (2 m)              | Represents the average temperature, crucial for climate studies and trend analysis.                                                   |\n",
    "| Maximum Apparent Temperature (2 m)  | Reflects the highest perceived temperature, combining actual temperature and humidity, affecting human comfort.                        |\n",
    "| Minimum Apparent Temperature (2 m)  | Reflects the lowest perceived temperature, influencing human comfort and heating requirements.                                        |\n",
    "| Mean Apparent Temperature (2 m)     | Represents the average perceived temperature, important for assessing overall comfort levels.                                         |\n",
    "| Sunrise                             | Marks the start of daylight, influencing daily cycles and solar energy availability.                                                  |\n",
    "| Sunset                              | Marks the end of daylight, affecting daily cycles and solar energy planning.                                                           |\n",
    "| Daylight Duration                   | Duration of daylight affects photosynthesis, energy consumption, and daily activities.                                                 |\n",
    "| Sunshine Duration                   | Amount of sunshine influences solar power generation, plant growth, and UV exposure.                                                 |\n",
    "| Precipitation Sum                   | Total precipitation is vital for water resource management, agriculture, and flood forecasting.                                         |\n",
    "| Rain Sum                            | Total rainfall affects agriculture, water supply, and flood risks.                                                                     |\n",
    "| Snowfall Sum                        | Total snowfall impacts water reserves, transportation, and winter activities.                                                          |\n",
    "| Precipitation Hours                 | Number of hours with precipitation affects soil moisture and flood risk assessment.                                                   |\n",
    "| Maximum Wind Speed (10 m)           | Affects wind energy potential, weather severity, and structural safety.                                                                |\n",
    "| Maximum Wind Gusts (10 m)           | Indicates extreme wind events, impacting building safety and outdoor activities.                                                        |\n",
    "| Dominant Wind Direction (10 m)      | Influences weather patterns, pollution dispersion, and maritime navigation.                                                             |\n",
    "| Shortwave Radiation Sum             | Total incoming solar radiation impacts temperature regulation, photosynthesis, and energy balance.                                    |\n",
    "| Reference Evapotranspiration (ET₀)  | Guides irrigation planning and water resource management by estimating atmospheric demand for moisture.                                   |"
   ]
  },
  {
   "cell_type": "code",
   "execution_count": 5,
   "metadata": {},
   "outputs": [],
   "source": [
    "def get_daily_weather_data(geocordinates, start_date, end_date):\n",
    "\n",
    "    daily_variables = [\n",
    "        \"weather_code\",\n",
    "        \"temperature_2m_max\",\n",
    "        \"temperature_2m_min\",\n",
    "        \"temperature_2m_mean\",\n",
    "        \"apparent_temperature_max\",\n",
    "        \"apparent_temperature_min\",\n",
    "        \"apparent_temperature_mean\",\n",
    "        \"sunrise\",\n",
    "        \"sunset\",\n",
    "        \"daylight_duration\",\n",
    "        \"sunshine_duration\",\n",
    "        \"precipitation_sum\",\n",
    "        \"rain_sum\",\n",
    "        \"snowfall_sum\",\n",
    "        \"precipitation_hours\",\n",
    "        \"wind_speed_10m_max\",\n",
    "        \"wind_gusts_10m_max\",\n",
    "        \"wind_direction_10m_dominant\",\n",
    "        \"shortwave_radiation_sum\",\n",
    "        \"et0_fao_evapotranspiration\"\n",
    "    ]\n",
    "\n",
    "\n",
    "    url = base_url\n",
    "    print(\"Start Date should be less than End Date\\n\")\n",
    "    latitude = geocordinates['lat']\n",
    "    longitude = geocordinates['lng']\n",
    "\n",
    "    # Parameters with specific group of variables for daily data for specific type of trend the user wants to see\n",
    "\n",
    "    url += f\"latitude={latitude}&longitude={longitude}&start_date={start_date}&end_date={end_date}&daily=\"\n",
    "    for variable in daily_variables:\n",
    "        url += variable + \",\"\n",
    "\n",
    "    url += \"&timezone=GMT&models=best_match\"\n",
    "\n",
    "    return url"
   ]
  },
  {
   "cell_type": "markdown",
   "metadata": {},
   "source": [
    "### Data Collection and Processing"
   ]
  },
  {
   "cell_type": "code",
   "execution_count": 6,
   "metadata": {},
   "outputs": [
    {
     "name": "stdout",
     "output_type": "stream",
     "text": [
      "1. Hourly Data\n",
      "2. Daily Data\n",
      "\n",
      "Start Date should be less than End Date\n",
      "\n",
      "https://archive-api.open-meteo.com/v1/archive?latitude=24.1989544&longitude=82.6676209&start_date=2023-12-20 00:00:00&end_date=2023-12-31 00:00:00&hourly=temperature_2m,relative_humidity_2m,dewpoint_2m,apparent_temperature,precipitation,rain,snowfall,snow_depth,weather_code,pressure_msl,surface_pressure,cloud_cover,cloud_cover_low,cloud_cover_mid,cloud_cover_high,et0_fao_evapotranspiration,vapour_pressure_deficit,wind_speed_10m,wind_speed_100m,wind_direction_10m,wind_direction_100m,wind_gusts_10m,soil_temperature_0_to_7cm,soil_temperature_7_to_28cm,soil_temperature_28_to_100cm,soil_temperature_100_to_255cm,soil_moisture_0_to_7cm,soil_moisture_7_to_28cm,soil_moisture_28_to_100cm,soil_moisture_100_to_255cm,&timezone=GMT&models=best_match\n",
      "Hourly Data:\n",
      "{'reason': \"Invalid date format. Make sure to use 'YYYY-MM-DD'\", 'error': True}\n"
     ]
    }
   ],
   "source": [
    "import requests\n",
    "import pandas as pd\n",
    "def get_data():\n",
    "    print(\"1. Hourly Data\\n2. Daily Data\\n\")\n",
    "    choice = int(input(\"Enter your choice: \"))\n",
    "    if choice not in [1, 2]:\n",
    "        raise ValueError(\"Invalid Choice\")\n",
    "    geocordinates = get_location()\n",
    "    start_date = get_date_time(\"Enter Start Date (YYYY-MM-DD): \")\n",
    "    end_date = get_date_time(\"Enter End Date (YYYY-MM-DD): \")\n",
    "    if start_date > end_date:\n",
    "        raise ValueError(\"Start Date should be less than End Date\")\n",
    "    \n",
    "    # Get the stored dataset\n",
    "    log = pd.read_csv(\"Data/log.csv\")\n",
    "\n",
    "    # Get the data from the API    \n",
    "    if choice == 1:\n",
    "        # check if the data is already stored in the log columns=['latitude','longitude','type','start-time','end-time','file-path']\n",
    "        \n",
    "        if log[(log['latitude'] == geocordinates['lat']) & (log['longitude'] == geocordinates['lng']) & (log['type'] == 'hourly') & (log['start-time'] == start_date) & (log['end-time'] == end_date)].shape[0] > 0:\n",
    "            file_path = log[(log['latitude'] == geocordinates['lat']) & (log['longitude'] == geocordinates['lng']) & (log['type'] == 'hourly') & (log['start-time'] == start_date) & (log['end-time'] == end_date)]['file-path'].values[0]\n",
    "            print(\"Data already exists in the log file\")\n",
    "            print(\"Data is stored in the file: \", file_path)\n",
    "            return pd.read_csv(file_path)\n",
    "\n",
    "        url = get_hourly_weather_data(geocordinates, start_date, end_date)\n",
    "        print(url)\n",
    "        hourly_data = requests.get(url).json()\n",
    "        print(\"Hourly Data:\")\n",
    "        print(hourly_data)\n",
    "        return hourly_data\n",
    "\n",
    "    elif choice == 2:\n",
    "        # check if the data is already stored in the log columns=['latitude','longitude','type','start-time','end-time','file-path']\n",
    "\n",
    "        if log[(log['latitude'] == geocordinates['lat']) & (log['longitude'] == geocordinates['lng']) & (log['type'] == 'daily') & (log['start-time'] == start_date) & (log['end-time'] == end_date)].shape[0] > 0:\n",
    "            file_path = log[(log['latitude'] == geocordinates['lat']) & (log['longitude'] == geocordinates['lng']) & (log['type'] == 'daily') & (log['start-time'] == start_date) & (log['end-time'] == end_date)]['file-path'].values[0]\n",
    "            print(\"Data already exists in the log file\")\n",
    "            print(\"Data is stored in the file: \", file_path)\n",
    "            return pd.read_csv(file_path)\n",
    "        url = get_daily_weather_data(geocordinates, start_date, end_date)\n",
    "        print(url)\n",
    "        daily_data = requests.get(url).json()\n",
    "        print(\"Daily Data:\")\n",
    "        print(daily_data)\n",
    "        return daily_data\n",
    "    else:\n",
    "        print(\"Invalid Choice\")\n",
    "        return None\n",
    "data = get_data()"
   ]
  },
  {
   "cell_type": "code",
   "execution_count": null,
   "metadata": {},
   "outputs": [],
   "source": [
    "import pandas as pd\n",
    "def get_to_csv(data):\n",
    "    df = pd.DataFrame(data)\n",
    "    log = pd.read_csv('Data/log.csv', columns=['latitude','longitude','type','start-time','end-time','file-path'], index_col=0)\n",
    "\n",
    "    latitude = data[\"latitude\"]\n",
    "    longitude = data[\"longitude\"]\n",
    "\n",
    "    if 'hourly' in data:\n",
    "        start_time = data[\"hourly\"][0]\n",
    "        end_time = data[\"hourly\"][-1]\n",
    "        data_type = 'hourly'\n",
    "        file_name = f\"{latitude}-{longitude}:{start_time}-{end_time}.csv\"\n",
    "        file_path = f'Hourly/{file_name}'\n",
    "    elif 'daily' in data:\n",
    "        start_time = data[\"daily\"]['time'][0]\n",
    "        end_time = data[\"daily\"]['time'][-1]\n",
    "        data_type = 'daily'\n",
    "        file_name = f\"{latitude}-{longitude}:{start_time}-{end_time}.csv\"\n",
    "        file_path = f'Daily/{file_name}'\n",
    "    else:\n",
    "        print(\"Invalid data format\")\n",
    "        return\n",
    "\n",
    "    # Check if entry already exists\n",
    "    existing = log[\n",
    "        (log['latitude'] == latitude) & \n",
    "        (log['longitude'] == longitude) & \n",
    "        (log['type'] == data_type) & \n",
    "        (log['start-time'] == start_time) & \n",
    "        (log['end-time'] == end_time)\n",
    "    ]\n",
    "\n",
    "    if existing.empty:\n",
    "        # Save data only if it doesn't exist\n",
    "        df.to_csv(f'Data/{file_path}')\n",
    "        new_entry = pd.Series({\n",
    "            'latitude': latitude,\n",
    "            'longitude': longitude,\n",
    "            'type': data_type,\n",
    "            'start-time': start_time,\n",
    "            'end-time': end_time,\n",
    "            'file-path': file_path\n",
    "        })\n",
    "        log = log._append(new_entry, ignore_index=True)\n",
    "        log.to_csv('Data/log.csv')\n",
    "        print(f\"Data saved to {file_path}\")\n",
    "    else:\n",
    "        print(\"Data already exists in the log file\")\n"
   ]
  },
  {
   "cell_type": "markdown",
   "metadata": {},
   "source": [
    "### Data Visualization"
   ]
  },
  {
   "cell_type": "markdown",
   "metadata": {},
   "source": [
    "Hourly"
   ]
  },
  {
   "cell_type": "code",
   "execution_count": 15,
   "metadata": {},
   "outputs": [],
   "source": [
    "import pandas as pd\n",
    "import numpy as np\n",
    "import matplotlib.pyplot as plt\n",
    "from datetime import datetime"
   ]
  },
  {
   "cell_type": "code",
   "execution_count": 25,
   "metadata": {},
   "outputs": [
    {
     "name": "stdout",
     "output_type": "stream",
     "text": [
      "Index(['Unnamed: 0', 'latitude', 'longitude', 'generationtime_ms',\n",
      "       'utc_offset_seconds', 'timezone', 'timezone_abbreviation', 'elevation',\n",
      "       'hourly_units', 'hourly'],\n",
      "      dtype='object')\n",
      "['time' 'temperature_2m' 'relative_humidity_2m' 'dewpoint_2m'\n",
      " 'apparent_temperature' 'precipitation' 'rain' 'snowfall' 'snow_depth'\n",
      " 'weather_code' 'pressure_msl' 'surface_pressure' 'cloud_cover'\n",
      " 'cloud_cover_low' 'cloud_cover_mid' 'cloud_cover_high'\n",
      " 'et0_fao_evapotranspiration' 'vapour_pressure_deficit' 'wind_speed_10m'\n",
      " 'wind_speed_100m' 'wind_direction_10m' 'wind_direction_100m'\n",
      " 'wind_gusts_10m' 'soil_temperature_0_to_7cm' 'soil_temperature_7_to_28cm'\n",
      " 'soil_temperature_28_to_100cm' 'soil_temperature_100_to_255cm'\n",
      " 'soil_moisture_0_to_7cm' 'soil_moisture_7_to_28cm'\n",
      " 'soil_moisture_28_to_100cm' 'soil_moisture_100_to_255cm']\n"
     ]
    }
   ],
   "source": [
    "hourly_data_df = pd.read_csv('Data/Hourly/24.217924-82.62766;2023-12-01-2023-12-31.csv')\n",
    "print(hourly_data_df.columns) # Columns in the hourly data\n",
    "# ids in the hourly data\n",
    "ids = hourly_data_df['Unnamed: 0'].unique()\n",
    "print(ids)\n"
   ]
  },
  {
   "cell_type": "code",
   "execution_count": 26,
   "metadata": {},
   "outputs": [
    {
     "name": "stdout",
     "output_type": "stream",
     "text": [
      "  Unnamed: 0   latitude  longitude  generationtime_ms  utc_offset_seconds  \\\n",
      "0       time  24.217924   82.62766            1.37496                   0   \n",
      "\n",
      "  timezone timezone_abbreviation  elevation hourly_units  \\\n",
      "0      GMT                   GMT      398.0      iso8601   \n",
      "\n",
      "                                              hourly  \n",
      "0  ['2023-12-01T00:00', '2023-12-01T01:00', '2023...  \n"
     ]
    }
   ],
   "source": [
    "# Get the data for a specific id\n",
    "id = ids[0]\n",
    "id_data = hourly_data_df[hourly_data_df['Unnamed: 0'] == id]\n",
    "print(id_data)"
   ]
  },
  {
   "cell_type": "code",
   "execution_count": 18,
   "metadata": {},
   "outputs": [],
   "source": [
    "# Combine Unnamed: 0 and hourly units columns with the unnamed column\n",
    "hourly_data_df['Unnamed: 0'] = hourly_data_df['Unnamed: 0'].astype(str)+'-'+hourly_data_df['hourly_units']"
   ]
  },
  {
   "cell_type": "code",
   "execution_count": null,
   "metadata": {},
   "outputs": [
    {
     "data": {
      "text/plain": [
       "[<matplotlib.lines.Line2D at 0x21560919880>]"
      ]
     },
     "execution_count": 45,
     "metadata": {},
     "output_type": "execute_result"
    },
    {
     "name": "stdout",
     "output_type": "stream",
     "text": [
      "Error in callback <function _draw_all_if_interactive at 0x00000215595F9DA0> (for post_execute), with arguments args (),kwargs {}:\n"
     ]
    },
    {
     "ename": "RuntimeError",
     "evalue": "In draw_glyphs_to_bitmap: Could not convert glyph to bitmap (raster overflow; error code 0x62)",
     "output_type": "error",
     "traceback": [
      "\u001b[1;31m---------------------------------------------------------------------------\u001b[0m",
      "\u001b[1;31mRuntimeError\u001b[0m                              Traceback (most recent call last)",
      "File \u001b[1;32mc:\\Users\\KIIT\\anaconda3\\Lib\\site-packages\\matplotlib\\pyplot.py:197\u001b[0m, in \u001b[0;36m_draw_all_if_interactive\u001b[1;34m()\u001b[0m\n\u001b[0;32m    195\u001b[0m \u001b[38;5;28;01mdef\u001b[39;00m \u001b[38;5;21m_draw_all_if_interactive\u001b[39m() \u001b[38;5;241m-\u001b[39m\u001b[38;5;241m>\u001b[39m \u001b[38;5;28;01mNone\u001b[39;00m:\n\u001b[0;32m    196\u001b[0m     \u001b[38;5;28;01mif\u001b[39;00m matplotlib\u001b[38;5;241m.\u001b[39mis_interactive():\n\u001b[1;32m--> 197\u001b[0m         draw_all()\n",
      "File \u001b[1;32mc:\\Users\\KIIT\\anaconda3\\Lib\\site-packages\\matplotlib\\_pylab_helpers.py:132\u001b[0m, in \u001b[0;36mGcf.draw_all\u001b[1;34m(cls, force)\u001b[0m\n\u001b[0;32m    130\u001b[0m \u001b[38;5;28;01mfor\u001b[39;00m manager \u001b[38;5;129;01min\u001b[39;00m \u001b[38;5;28mcls\u001b[39m\u001b[38;5;241m.\u001b[39mget_all_fig_managers():\n\u001b[0;32m    131\u001b[0m     \u001b[38;5;28;01mif\u001b[39;00m force \u001b[38;5;129;01mor\u001b[39;00m manager\u001b[38;5;241m.\u001b[39mcanvas\u001b[38;5;241m.\u001b[39mfigure\u001b[38;5;241m.\u001b[39mstale:\n\u001b[1;32m--> 132\u001b[0m         manager\u001b[38;5;241m.\u001b[39mcanvas\u001b[38;5;241m.\u001b[39mdraw_idle()\n",
      "File \u001b[1;32mc:\\Users\\KIIT\\anaconda3\\Lib\\site-packages\\matplotlib\\backend_bases.py:1893\u001b[0m, in \u001b[0;36mFigureCanvasBase.draw_idle\u001b[1;34m(self, *args, **kwargs)\u001b[0m\n\u001b[0;32m   1891\u001b[0m \u001b[38;5;28;01mif\u001b[39;00m \u001b[38;5;129;01mnot\u001b[39;00m \u001b[38;5;28mself\u001b[39m\u001b[38;5;241m.\u001b[39m_is_idle_drawing:\n\u001b[0;32m   1892\u001b[0m     \u001b[38;5;28;01mwith\u001b[39;00m \u001b[38;5;28mself\u001b[39m\u001b[38;5;241m.\u001b[39m_idle_draw_cntx():\n\u001b[1;32m-> 1893\u001b[0m         \u001b[38;5;28mself\u001b[39m\u001b[38;5;241m.\u001b[39mdraw(\u001b[38;5;241m*\u001b[39margs, \u001b[38;5;241m*\u001b[39m\u001b[38;5;241m*\u001b[39mkwargs)\n",
      "File \u001b[1;32mc:\\Users\\KIIT\\anaconda3\\Lib\\site-packages\\matplotlib\\backends\\backend_agg.py:388\u001b[0m, in \u001b[0;36mFigureCanvasAgg.draw\u001b[1;34m(self)\u001b[0m\n\u001b[0;32m    385\u001b[0m \u001b[38;5;66;03m# Acquire a lock on the shared font cache.\u001b[39;00m\n\u001b[0;32m    386\u001b[0m \u001b[38;5;28;01mwith\u001b[39;00m (\u001b[38;5;28mself\u001b[39m\u001b[38;5;241m.\u001b[39mtoolbar\u001b[38;5;241m.\u001b[39m_wait_cursor_for_draw_cm() \u001b[38;5;28;01mif\u001b[39;00m \u001b[38;5;28mself\u001b[39m\u001b[38;5;241m.\u001b[39mtoolbar\n\u001b[0;32m    387\u001b[0m       \u001b[38;5;28;01melse\u001b[39;00m nullcontext()):\n\u001b[1;32m--> 388\u001b[0m     \u001b[38;5;28mself\u001b[39m\u001b[38;5;241m.\u001b[39mfigure\u001b[38;5;241m.\u001b[39mdraw(\u001b[38;5;28mself\u001b[39m\u001b[38;5;241m.\u001b[39mrenderer)\n\u001b[0;32m    389\u001b[0m     \u001b[38;5;66;03m# A GUI class may be need to update a window using this draw, so\u001b[39;00m\n\u001b[0;32m    390\u001b[0m     \u001b[38;5;66;03m# don't forget to call the superclass.\u001b[39;00m\n\u001b[0;32m    391\u001b[0m     \u001b[38;5;28msuper\u001b[39m()\u001b[38;5;241m.\u001b[39mdraw()\n",
      "File \u001b[1;32mc:\\Users\\KIIT\\anaconda3\\Lib\\site-packages\\matplotlib\\artist.py:95\u001b[0m, in \u001b[0;36m_finalize_rasterization.<locals>.draw_wrapper\u001b[1;34m(artist, renderer, *args, **kwargs)\u001b[0m\n\u001b[0;32m     93\u001b[0m \u001b[38;5;129m@wraps\u001b[39m(draw)\n\u001b[0;32m     94\u001b[0m \u001b[38;5;28;01mdef\u001b[39;00m \u001b[38;5;21mdraw_wrapper\u001b[39m(artist, renderer, \u001b[38;5;241m*\u001b[39margs, \u001b[38;5;241m*\u001b[39m\u001b[38;5;241m*\u001b[39mkwargs):\n\u001b[1;32m---> 95\u001b[0m     result \u001b[38;5;241m=\u001b[39m draw(artist, renderer, \u001b[38;5;241m*\u001b[39margs, \u001b[38;5;241m*\u001b[39m\u001b[38;5;241m*\u001b[39mkwargs)\n\u001b[0;32m     96\u001b[0m     \u001b[38;5;28;01mif\u001b[39;00m renderer\u001b[38;5;241m.\u001b[39m_rasterizing:\n\u001b[0;32m     97\u001b[0m         renderer\u001b[38;5;241m.\u001b[39mstop_rasterizing()\n",
      "File \u001b[1;32mc:\\Users\\KIIT\\anaconda3\\Lib\\site-packages\\matplotlib\\artist.py:72\u001b[0m, in \u001b[0;36mallow_rasterization.<locals>.draw_wrapper\u001b[1;34m(artist, renderer)\u001b[0m\n\u001b[0;32m     69\u001b[0m     \u001b[38;5;28;01mif\u001b[39;00m artist\u001b[38;5;241m.\u001b[39mget_agg_filter() \u001b[38;5;129;01mis\u001b[39;00m \u001b[38;5;129;01mnot\u001b[39;00m \u001b[38;5;28;01mNone\u001b[39;00m:\n\u001b[0;32m     70\u001b[0m         renderer\u001b[38;5;241m.\u001b[39mstart_filter()\n\u001b[1;32m---> 72\u001b[0m     \u001b[38;5;28;01mreturn\u001b[39;00m draw(artist, renderer)\n\u001b[0;32m     73\u001b[0m \u001b[38;5;28;01mfinally\u001b[39;00m:\n\u001b[0;32m     74\u001b[0m     \u001b[38;5;28;01mif\u001b[39;00m artist\u001b[38;5;241m.\u001b[39mget_agg_filter() \u001b[38;5;129;01mis\u001b[39;00m \u001b[38;5;129;01mnot\u001b[39;00m \u001b[38;5;28;01mNone\u001b[39;00m:\n",
      "File \u001b[1;32mc:\\Users\\KIIT\\anaconda3\\Lib\\site-packages\\matplotlib\\figure.py:3154\u001b[0m, in \u001b[0;36mFigure.draw\u001b[1;34m(self, renderer)\u001b[0m\n\u001b[0;32m   3151\u001b[0m         \u001b[38;5;66;03m# ValueError can occur when resizing a window.\u001b[39;00m\n\u001b[0;32m   3153\u001b[0m \u001b[38;5;28mself\u001b[39m\u001b[38;5;241m.\u001b[39mpatch\u001b[38;5;241m.\u001b[39mdraw(renderer)\n\u001b[1;32m-> 3154\u001b[0m mimage\u001b[38;5;241m.\u001b[39m_draw_list_compositing_images(\n\u001b[0;32m   3155\u001b[0m     renderer, \u001b[38;5;28mself\u001b[39m, artists, \u001b[38;5;28mself\u001b[39m\u001b[38;5;241m.\u001b[39msuppressComposite)\n\u001b[0;32m   3157\u001b[0m \u001b[38;5;28;01mfor\u001b[39;00m sfig \u001b[38;5;129;01min\u001b[39;00m \u001b[38;5;28mself\u001b[39m\u001b[38;5;241m.\u001b[39msubfigs:\n\u001b[0;32m   3158\u001b[0m     sfig\u001b[38;5;241m.\u001b[39mdraw(renderer)\n",
      "File \u001b[1;32mc:\\Users\\KIIT\\anaconda3\\Lib\\site-packages\\matplotlib\\image.py:132\u001b[0m, in \u001b[0;36m_draw_list_compositing_images\u001b[1;34m(renderer, parent, artists, suppress_composite)\u001b[0m\n\u001b[0;32m    130\u001b[0m \u001b[38;5;28;01mif\u001b[39;00m not_composite \u001b[38;5;129;01mor\u001b[39;00m \u001b[38;5;129;01mnot\u001b[39;00m has_images:\n\u001b[0;32m    131\u001b[0m     \u001b[38;5;28;01mfor\u001b[39;00m a \u001b[38;5;129;01min\u001b[39;00m artists:\n\u001b[1;32m--> 132\u001b[0m         a\u001b[38;5;241m.\u001b[39mdraw(renderer)\n\u001b[0;32m    133\u001b[0m \u001b[38;5;28;01melse\u001b[39;00m:\n\u001b[0;32m    134\u001b[0m     \u001b[38;5;66;03m# Composite any adjacent images together\u001b[39;00m\n\u001b[0;32m    135\u001b[0m     image_group \u001b[38;5;241m=\u001b[39m []\n",
      "File \u001b[1;32mc:\\Users\\KIIT\\anaconda3\\Lib\\site-packages\\matplotlib\\artist.py:72\u001b[0m, in \u001b[0;36mallow_rasterization.<locals>.draw_wrapper\u001b[1;34m(artist, renderer)\u001b[0m\n\u001b[0;32m     69\u001b[0m     \u001b[38;5;28;01mif\u001b[39;00m artist\u001b[38;5;241m.\u001b[39mget_agg_filter() \u001b[38;5;129;01mis\u001b[39;00m \u001b[38;5;129;01mnot\u001b[39;00m \u001b[38;5;28;01mNone\u001b[39;00m:\n\u001b[0;32m     70\u001b[0m         renderer\u001b[38;5;241m.\u001b[39mstart_filter()\n\u001b[1;32m---> 72\u001b[0m     \u001b[38;5;28;01mreturn\u001b[39;00m draw(artist, renderer)\n\u001b[0;32m     73\u001b[0m \u001b[38;5;28;01mfinally\u001b[39;00m:\n\u001b[0;32m     74\u001b[0m     \u001b[38;5;28;01mif\u001b[39;00m artist\u001b[38;5;241m.\u001b[39mget_agg_filter() \u001b[38;5;129;01mis\u001b[39;00m \u001b[38;5;129;01mnot\u001b[39;00m \u001b[38;5;28;01mNone\u001b[39;00m:\n",
      "File \u001b[1;32mc:\\Users\\KIIT\\anaconda3\\Lib\\site-packages\\matplotlib\\axes\\_base.py:3070\u001b[0m, in \u001b[0;36m_AxesBase.draw\u001b[1;34m(self, renderer)\u001b[0m\n\u001b[0;32m   3067\u001b[0m \u001b[38;5;28;01mif\u001b[39;00m artists_rasterized:\n\u001b[0;32m   3068\u001b[0m     _draw_rasterized(\u001b[38;5;28mself\u001b[39m\u001b[38;5;241m.\u001b[39mfigure, artists_rasterized, renderer)\n\u001b[1;32m-> 3070\u001b[0m mimage\u001b[38;5;241m.\u001b[39m_draw_list_compositing_images(\n\u001b[0;32m   3071\u001b[0m     renderer, \u001b[38;5;28mself\u001b[39m, artists, \u001b[38;5;28mself\u001b[39m\u001b[38;5;241m.\u001b[39mfigure\u001b[38;5;241m.\u001b[39msuppressComposite)\n\u001b[0;32m   3073\u001b[0m renderer\u001b[38;5;241m.\u001b[39mclose_group(\u001b[38;5;124m'\u001b[39m\u001b[38;5;124maxes\u001b[39m\u001b[38;5;124m'\u001b[39m)\n\u001b[0;32m   3074\u001b[0m \u001b[38;5;28mself\u001b[39m\u001b[38;5;241m.\u001b[39mstale \u001b[38;5;241m=\u001b[39m \u001b[38;5;28;01mFalse\u001b[39;00m\n",
      "File \u001b[1;32mc:\\Users\\KIIT\\anaconda3\\Lib\\site-packages\\matplotlib\\image.py:132\u001b[0m, in \u001b[0;36m_draw_list_compositing_images\u001b[1;34m(renderer, parent, artists, suppress_composite)\u001b[0m\n\u001b[0;32m    130\u001b[0m \u001b[38;5;28;01mif\u001b[39;00m not_composite \u001b[38;5;129;01mor\u001b[39;00m \u001b[38;5;129;01mnot\u001b[39;00m has_images:\n\u001b[0;32m    131\u001b[0m     \u001b[38;5;28;01mfor\u001b[39;00m a \u001b[38;5;129;01min\u001b[39;00m artists:\n\u001b[1;32m--> 132\u001b[0m         a\u001b[38;5;241m.\u001b[39mdraw(renderer)\n\u001b[0;32m    133\u001b[0m \u001b[38;5;28;01melse\u001b[39;00m:\n\u001b[0;32m    134\u001b[0m     \u001b[38;5;66;03m# Composite any adjacent images together\u001b[39;00m\n\u001b[0;32m    135\u001b[0m     image_group \u001b[38;5;241m=\u001b[39m []\n",
      "File \u001b[1;32mc:\\Users\\KIIT\\anaconda3\\Lib\\site-packages\\matplotlib\\artist.py:72\u001b[0m, in \u001b[0;36mallow_rasterization.<locals>.draw_wrapper\u001b[1;34m(artist, renderer)\u001b[0m\n\u001b[0;32m     69\u001b[0m     \u001b[38;5;28;01mif\u001b[39;00m artist\u001b[38;5;241m.\u001b[39mget_agg_filter() \u001b[38;5;129;01mis\u001b[39;00m \u001b[38;5;129;01mnot\u001b[39;00m \u001b[38;5;28;01mNone\u001b[39;00m:\n\u001b[0;32m     70\u001b[0m         renderer\u001b[38;5;241m.\u001b[39mstart_filter()\n\u001b[1;32m---> 72\u001b[0m     \u001b[38;5;28;01mreturn\u001b[39;00m draw(artist, renderer)\n\u001b[0;32m     73\u001b[0m \u001b[38;5;28;01mfinally\u001b[39;00m:\n\u001b[0;32m     74\u001b[0m     \u001b[38;5;28;01mif\u001b[39;00m artist\u001b[38;5;241m.\u001b[39mget_agg_filter() \u001b[38;5;129;01mis\u001b[39;00m \u001b[38;5;129;01mnot\u001b[39;00m \u001b[38;5;28;01mNone\u001b[39;00m:\n",
      "File \u001b[1;32mc:\\Users\\KIIT\\anaconda3\\Lib\\site-packages\\matplotlib\\axis.py:1391\u001b[0m, in \u001b[0;36mAxis.draw\u001b[1;34m(self, renderer, *args, **kwargs)\u001b[0m\n\u001b[0;32m   1388\u001b[0m tlb1, tlb2 \u001b[38;5;241m=\u001b[39m \u001b[38;5;28mself\u001b[39m\u001b[38;5;241m.\u001b[39m_get_ticklabel_bboxes(ticks_to_draw, renderer)\n\u001b[0;32m   1390\u001b[0m \u001b[38;5;28;01mfor\u001b[39;00m tick \u001b[38;5;129;01min\u001b[39;00m ticks_to_draw:\n\u001b[1;32m-> 1391\u001b[0m     tick\u001b[38;5;241m.\u001b[39mdraw(renderer)\n\u001b[0;32m   1393\u001b[0m \u001b[38;5;66;03m# Shift label away from axes to avoid overlapping ticklabels.\u001b[39;00m\n\u001b[0;32m   1394\u001b[0m \u001b[38;5;28mself\u001b[39m\u001b[38;5;241m.\u001b[39m_update_label_position(renderer)\n",
      "File \u001b[1;32mc:\\Users\\KIIT\\anaconda3\\Lib\\site-packages\\matplotlib\\artist.py:72\u001b[0m, in \u001b[0;36mallow_rasterization.<locals>.draw_wrapper\u001b[1;34m(artist, renderer)\u001b[0m\n\u001b[0;32m     69\u001b[0m     \u001b[38;5;28;01mif\u001b[39;00m artist\u001b[38;5;241m.\u001b[39mget_agg_filter() \u001b[38;5;129;01mis\u001b[39;00m \u001b[38;5;129;01mnot\u001b[39;00m \u001b[38;5;28;01mNone\u001b[39;00m:\n\u001b[0;32m     70\u001b[0m         renderer\u001b[38;5;241m.\u001b[39mstart_filter()\n\u001b[1;32m---> 72\u001b[0m     \u001b[38;5;28;01mreturn\u001b[39;00m draw(artist, renderer)\n\u001b[0;32m     73\u001b[0m \u001b[38;5;28;01mfinally\u001b[39;00m:\n\u001b[0;32m     74\u001b[0m     \u001b[38;5;28;01mif\u001b[39;00m artist\u001b[38;5;241m.\u001b[39mget_agg_filter() \u001b[38;5;129;01mis\u001b[39;00m \u001b[38;5;129;01mnot\u001b[39;00m \u001b[38;5;28;01mNone\u001b[39;00m:\n",
      "File \u001b[1;32mc:\\Users\\KIIT\\anaconda3\\Lib\\site-packages\\matplotlib\\axis.py:295\u001b[0m, in \u001b[0;36mTick.draw\u001b[1;34m(self, renderer)\u001b[0m\n\u001b[0;32m    292\u001b[0m renderer\u001b[38;5;241m.\u001b[39mopen_group(\u001b[38;5;28mself\u001b[39m\u001b[38;5;241m.\u001b[39m\u001b[38;5;18m__name__\u001b[39m, gid\u001b[38;5;241m=\u001b[39m\u001b[38;5;28mself\u001b[39m\u001b[38;5;241m.\u001b[39mget_gid())\n\u001b[0;32m    293\u001b[0m \u001b[38;5;28;01mfor\u001b[39;00m artist \u001b[38;5;129;01min\u001b[39;00m [\u001b[38;5;28mself\u001b[39m\u001b[38;5;241m.\u001b[39mgridline, \u001b[38;5;28mself\u001b[39m\u001b[38;5;241m.\u001b[39mtick1line, \u001b[38;5;28mself\u001b[39m\u001b[38;5;241m.\u001b[39mtick2line,\n\u001b[0;32m    294\u001b[0m                \u001b[38;5;28mself\u001b[39m\u001b[38;5;241m.\u001b[39mlabel1, \u001b[38;5;28mself\u001b[39m\u001b[38;5;241m.\u001b[39mlabel2]:\n\u001b[1;32m--> 295\u001b[0m     artist\u001b[38;5;241m.\u001b[39mdraw(renderer)\n\u001b[0;32m    296\u001b[0m renderer\u001b[38;5;241m.\u001b[39mclose_group(\u001b[38;5;28mself\u001b[39m\u001b[38;5;241m.\u001b[39m\u001b[38;5;18m__name__\u001b[39m)\n\u001b[0;32m    297\u001b[0m \u001b[38;5;28mself\u001b[39m\u001b[38;5;241m.\u001b[39mstale \u001b[38;5;241m=\u001b[39m \u001b[38;5;28;01mFalse\u001b[39;00m\n",
      "File \u001b[1;32mc:\\Users\\KIIT\\anaconda3\\Lib\\site-packages\\matplotlib\\artist.py:72\u001b[0m, in \u001b[0;36mallow_rasterization.<locals>.draw_wrapper\u001b[1;34m(artist, renderer)\u001b[0m\n\u001b[0;32m     69\u001b[0m     \u001b[38;5;28;01mif\u001b[39;00m artist\u001b[38;5;241m.\u001b[39mget_agg_filter() \u001b[38;5;129;01mis\u001b[39;00m \u001b[38;5;129;01mnot\u001b[39;00m \u001b[38;5;28;01mNone\u001b[39;00m:\n\u001b[0;32m     70\u001b[0m         renderer\u001b[38;5;241m.\u001b[39mstart_filter()\n\u001b[1;32m---> 72\u001b[0m     \u001b[38;5;28;01mreturn\u001b[39;00m draw(artist, renderer)\n\u001b[0;32m     73\u001b[0m \u001b[38;5;28;01mfinally\u001b[39;00m:\n\u001b[0;32m     74\u001b[0m     \u001b[38;5;28;01mif\u001b[39;00m artist\u001b[38;5;241m.\u001b[39mget_agg_filter() \u001b[38;5;129;01mis\u001b[39;00m \u001b[38;5;129;01mnot\u001b[39;00m \u001b[38;5;28;01mNone\u001b[39;00m:\n",
      "File \u001b[1;32mc:\\Users\\KIIT\\anaconda3\\Lib\\site-packages\\matplotlib\\text.py:797\u001b[0m, in \u001b[0;36mText.draw\u001b[1;34m(self, renderer)\u001b[0m\n\u001b[0;32m    793\u001b[0m             textrenderer\u001b[38;5;241m.\u001b[39mdraw_tex(gc, x, y, clean_line,\n\u001b[0;32m    794\u001b[0m                                   \u001b[38;5;28mself\u001b[39m\u001b[38;5;241m.\u001b[39m_fontproperties, angle,\n\u001b[0;32m    795\u001b[0m                                   mtext\u001b[38;5;241m=\u001b[39mmtext)\n\u001b[0;32m    796\u001b[0m         \u001b[38;5;28;01melse\u001b[39;00m:\n\u001b[1;32m--> 797\u001b[0m             textrenderer\u001b[38;5;241m.\u001b[39mdraw_text(gc, x, y, clean_line,\n\u001b[0;32m    798\u001b[0m                                    \u001b[38;5;28mself\u001b[39m\u001b[38;5;241m.\u001b[39m_fontproperties, angle,\n\u001b[0;32m    799\u001b[0m                                    ismath\u001b[38;5;241m=\u001b[39mismath, mtext\u001b[38;5;241m=\u001b[39mmtext)\n\u001b[0;32m    801\u001b[0m gc\u001b[38;5;241m.\u001b[39mrestore()\n\u001b[0;32m    802\u001b[0m renderer\u001b[38;5;241m.\u001b[39mclose_group(\u001b[38;5;124m'\u001b[39m\u001b[38;5;124mtext\u001b[39m\u001b[38;5;124m'\u001b[39m)\n",
      "File \u001b[1;32mc:\\Users\\KIIT\\anaconda3\\Lib\\site-packages\\matplotlib\\backends\\backend_agg.py:195\u001b[0m, in \u001b[0;36mRendererAgg.draw_text\u001b[1;34m(self, gc, x, y, s, prop, angle, ismath, mtext)\u001b[0m\n\u001b[0;32m    192\u001b[0m \u001b[38;5;66;03m# We pass '0' for angle here, since it will be rotated (in raster\u001b[39;00m\n\u001b[0;32m    193\u001b[0m \u001b[38;5;66;03m# space) in the following call to draw_text_image).\u001b[39;00m\n\u001b[0;32m    194\u001b[0m font\u001b[38;5;241m.\u001b[39mset_text(s, \u001b[38;5;241m0\u001b[39m, flags\u001b[38;5;241m=\u001b[39mget_hinting_flag())\n\u001b[1;32m--> 195\u001b[0m font\u001b[38;5;241m.\u001b[39mdraw_glyphs_to_bitmap(\n\u001b[0;32m    196\u001b[0m     antialiased\u001b[38;5;241m=\u001b[39mgc\u001b[38;5;241m.\u001b[39mget_antialiased())\n\u001b[0;32m    197\u001b[0m d \u001b[38;5;241m=\u001b[39m font\u001b[38;5;241m.\u001b[39mget_descent() \u001b[38;5;241m/\u001b[39m \u001b[38;5;241m64.0\u001b[39m\n\u001b[0;32m    198\u001b[0m \u001b[38;5;66;03m# The descent needs to be adjusted for the angle.\u001b[39;00m\n",
      "\u001b[1;31mRuntimeError\u001b[0m: In draw_glyphs_to_bitmap: Could not convert glyph to bitmap (raster overflow; error code 0x62)"
     ]
    },
    {
     "ename": "ValueError",
     "evalue": "Image size of 108646x413 pixels is too large. It must be less than 2^16 in each direction.",
     "output_type": "error",
     "traceback": [
      "\u001b[1;31m---------------------------------------------------------------------------\u001b[0m",
      "\u001b[1;31mValueError\u001b[0m                                Traceback (most recent call last)",
      "File \u001b[1;32mc:\\Users\\KIIT\\anaconda3\\Lib\\site-packages\\IPython\\core\\formatters.py:343\u001b[0m, in \u001b[0;36mBaseFormatter.__call__\u001b[1;34m(self, obj)\u001b[0m\n\u001b[0;32m    341\u001b[0m     \u001b[38;5;28;01mpass\u001b[39;00m\n\u001b[0;32m    342\u001b[0m \u001b[38;5;28;01melse\u001b[39;00m:\n\u001b[1;32m--> 343\u001b[0m     \u001b[38;5;28;01mreturn\u001b[39;00m printer(obj)\n\u001b[0;32m    344\u001b[0m \u001b[38;5;66;03m# Finally look for special method names\u001b[39;00m\n\u001b[0;32m    345\u001b[0m method \u001b[38;5;241m=\u001b[39m get_real_method(obj, \u001b[38;5;28mself\u001b[39m\u001b[38;5;241m.\u001b[39mprint_method)\n",
      "File \u001b[1;32mc:\\Users\\KIIT\\anaconda3\\Lib\\site-packages\\IPython\\core\\pylabtools.py:170\u001b[0m, in \u001b[0;36mprint_figure\u001b[1;34m(fig, fmt, bbox_inches, base64, **kwargs)\u001b[0m\n\u001b[0;32m    167\u001b[0m     \u001b[38;5;28;01mfrom\u001b[39;00m \u001b[38;5;21;01mmatplotlib\u001b[39;00m\u001b[38;5;21;01m.\u001b[39;00m\u001b[38;5;21;01mbackend_bases\u001b[39;00m \u001b[38;5;28;01mimport\u001b[39;00m FigureCanvasBase\n\u001b[0;32m    168\u001b[0m     FigureCanvasBase(fig)\n\u001b[1;32m--> 170\u001b[0m fig\u001b[38;5;241m.\u001b[39mcanvas\u001b[38;5;241m.\u001b[39mprint_figure(bytes_io, \u001b[38;5;241m*\u001b[39m\u001b[38;5;241m*\u001b[39mkw)\n\u001b[0;32m    171\u001b[0m data \u001b[38;5;241m=\u001b[39m bytes_io\u001b[38;5;241m.\u001b[39mgetvalue()\n\u001b[0;32m    172\u001b[0m \u001b[38;5;28;01mif\u001b[39;00m fmt \u001b[38;5;241m==\u001b[39m \u001b[38;5;124m'\u001b[39m\u001b[38;5;124msvg\u001b[39m\u001b[38;5;124m'\u001b[39m:\n",
      "File \u001b[1;32mc:\\Users\\KIIT\\anaconda3\\Lib\\site-packages\\matplotlib\\backend_bases.py:2193\u001b[0m, in \u001b[0;36mFigureCanvasBase.print_figure\u001b[1;34m(self, filename, dpi, facecolor, edgecolor, orientation, format, bbox_inches, pad_inches, bbox_extra_artists, backend, **kwargs)\u001b[0m\n\u001b[0;32m   2189\u001b[0m \u001b[38;5;28;01mtry\u001b[39;00m:\n\u001b[0;32m   2190\u001b[0m     \u001b[38;5;66;03m# _get_renderer may change the figure dpi (as vector formats\u001b[39;00m\n\u001b[0;32m   2191\u001b[0m     \u001b[38;5;66;03m# force the figure dpi to 72), so we need to set it again here.\u001b[39;00m\n\u001b[0;32m   2192\u001b[0m     \u001b[38;5;28;01mwith\u001b[39;00m cbook\u001b[38;5;241m.\u001b[39m_setattr_cm(\u001b[38;5;28mself\u001b[39m\u001b[38;5;241m.\u001b[39mfigure, dpi\u001b[38;5;241m=\u001b[39mdpi):\n\u001b[1;32m-> 2193\u001b[0m         result \u001b[38;5;241m=\u001b[39m print_method(\n\u001b[0;32m   2194\u001b[0m             filename,\n\u001b[0;32m   2195\u001b[0m             facecolor\u001b[38;5;241m=\u001b[39mfacecolor,\n\u001b[0;32m   2196\u001b[0m             edgecolor\u001b[38;5;241m=\u001b[39medgecolor,\n\u001b[0;32m   2197\u001b[0m             orientation\u001b[38;5;241m=\u001b[39morientation,\n\u001b[0;32m   2198\u001b[0m             bbox_inches_restore\u001b[38;5;241m=\u001b[39m_bbox_inches_restore,\n\u001b[0;32m   2199\u001b[0m             \u001b[38;5;241m*\u001b[39m\u001b[38;5;241m*\u001b[39mkwargs)\n\u001b[0;32m   2200\u001b[0m \u001b[38;5;28;01mfinally\u001b[39;00m:\n\u001b[0;32m   2201\u001b[0m     \u001b[38;5;28;01mif\u001b[39;00m bbox_inches \u001b[38;5;129;01mand\u001b[39;00m restore_bbox:\n",
      "File \u001b[1;32mc:\\Users\\KIIT\\anaconda3\\Lib\\site-packages\\matplotlib\\backend_bases.py:2043\u001b[0m, in \u001b[0;36mFigureCanvasBase._switch_canvas_and_return_print_method.<locals>.<lambda>\u001b[1;34m(*args, **kwargs)\u001b[0m\n\u001b[0;32m   2039\u001b[0m     optional_kws \u001b[38;5;241m=\u001b[39m {  \u001b[38;5;66;03m# Passed by print_figure for other renderers.\u001b[39;00m\n\u001b[0;32m   2040\u001b[0m         \u001b[38;5;124m\"\u001b[39m\u001b[38;5;124mdpi\u001b[39m\u001b[38;5;124m\"\u001b[39m, \u001b[38;5;124m\"\u001b[39m\u001b[38;5;124mfacecolor\u001b[39m\u001b[38;5;124m\"\u001b[39m, \u001b[38;5;124m\"\u001b[39m\u001b[38;5;124medgecolor\u001b[39m\u001b[38;5;124m\"\u001b[39m, \u001b[38;5;124m\"\u001b[39m\u001b[38;5;124morientation\u001b[39m\u001b[38;5;124m\"\u001b[39m,\n\u001b[0;32m   2041\u001b[0m         \u001b[38;5;124m\"\u001b[39m\u001b[38;5;124mbbox_inches_restore\u001b[39m\u001b[38;5;124m\"\u001b[39m}\n\u001b[0;32m   2042\u001b[0m     skip \u001b[38;5;241m=\u001b[39m optional_kws \u001b[38;5;241m-\u001b[39m {\u001b[38;5;241m*\u001b[39minspect\u001b[38;5;241m.\u001b[39msignature(meth)\u001b[38;5;241m.\u001b[39mparameters}\n\u001b[1;32m-> 2043\u001b[0m     print_method \u001b[38;5;241m=\u001b[39m functools\u001b[38;5;241m.\u001b[39mwraps(meth)(\u001b[38;5;28;01mlambda\u001b[39;00m \u001b[38;5;241m*\u001b[39margs, \u001b[38;5;241m*\u001b[39m\u001b[38;5;241m*\u001b[39mkwargs: meth(\n\u001b[0;32m   2044\u001b[0m         \u001b[38;5;241m*\u001b[39margs, \u001b[38;5;241m*\u001b[39m\u001b[38;5;241m*\u001b[39m{k: v \u001b[38;5;28;01mfor\u001b[39;00m k, v \u001b[38;5;129;01min\u001b[39;00m kwargs\u001b[38;5;241m.\u001b[39mitems() \u001b[38;5;28;01mif\u001b[39;00m k \u001b[38;5;129;01mnot\u001b[39;00m \u001b[38;5;129;01min\u001b[39;00m skip}))\n\u001b[0;32m   2045\u001b[0m \u001b[38;5;28;01melse\u001b[39;00m:  \u001b[38;5;66;03m# Let third-parties do as they see fit.\u001b[39;00m\n\u001b[0;32m   2046\u001b[0m     print_method \u001b[38;5;241m=\u001b[39m meth\n",
      "File \u001b[1;32mc:\\Users\\KIIT\\anaconda3\\Lib\\site-packages\\matplotlib\\backends\\backend_agg.py:497\u001b[0m, in \u001b[0;36mFigureCanvasAgg.print_png\u001b[1;34m(self, filename_or_obj, metadata, pil_kwargs)\u001b[0m\n\u001b[0;32m    450\u001b[0m \u001b[38;5;28;01mdef\u001b[39;00m \u001b[38;5;21mprint_png\u001b[39m(\u001b[38;5;28mself\u001b[39m, filename_or_obj, \u001b[38;5;241m*\u001b[39m, metadata\u001b[38;5;241m=\u001b[39m\u001b[38;5;28;01mNone\u001b[39;00m, pil_kwargs\u001b[38;5;241m=\u001b[39m\u001b[38;5;28;01mNone\u001b[39;00m):\n\u001b[0;32m    451\u001b[0m \u001b[38;5;250m    \u001b[39m\u001b[38;5;124;03m\"\"\"\u001b[39;00m\n\u001b[0;32m    452\u001b[0m \u001b[38;5;124;03m    Write the figure to a PNG file.\u001b[39;00m\n\u001b[0;32m    453\u001b[0m \n\u001b[1;32m   (...)\u001b[0m\n\u001b[0;32m    495\u001b[0m \u001b[38;5;124;03m        *metadata*, including the default 'Software' key.\u001b[39;00m\n\u001b[0;32m    496\u001b[0m \u001b[38;5;124;03m    \"\"\"\u001b[39;00m\n\u001b[1;32m--> 497\u001b[0m     \u001b[38;5;28mself\u001b[39m\u001b[38;5;241m.\u001b[39m_print_pil(filename_or_obj, \u001b[38;5;124m\"\u001b[39m\u001b[38;5;124mpng\u001b[39m\u001b[38;5;124m\"\u001b[39m, pil_kwargs, metadata)\n",
      "File \u001b[1;32mc:\\Users\\KIIT\\anaconda3\\Lib\\site-packages\\matplotlib\\backends\\backend_agg.py:445\u001b[0m, in \u001b[0;36mFigureCanvasAgg._print_pil\u001b[1;34m(self, filename_or_obj, fmt, pil_kwargs, metadata)\u001b[0m\n\u001b[0;32m    440\u001b[0m \u001b[38;5;28;01mdef\u001b[39;00m \u001b[38;5;21m_print_pil\u001b[39m(\u001b[38;5;28mself\u001b[39m, filename_or_obj, fmt, pil_kwargs, metadata\u001b[38;5;241m=\u001b[39m\u001b[38;5;28;01mNone\u001b[39;00m):\n\u001b[0;32m    441\u001b[0m \u001b[38;5;250m    \u001b[39m\u001b[38;5;124;03m\"\"\"\u001b[39;00m\n\u001b[0;32m    442\u001b[0m \u001b[38;5;124;03m    Draw the canvas, then save it using `.image.imsave` (to which\u001b[39;00m\n\u001b[0;32m    443\u001b[0m \u001b[38;5;124;03m    *pil_kwargs* and *metadata* are forwarded).\u001b[39;00m\n\u001b[0;32m    444\u001b[0m \u001b[38;5;124;03m    \"\"\"\u001b[39;00m\n\u001b[1;32m--> 445\u001b[0m     FigureCanvasAgg\u001b[38;5;241m.\u001b[39mdraw(\u001b[38;5;28mself\u001b[39m)\n\u001b[0;32m    446\u001b[0m     mpl\u001b[38;5;241m.\u001b[39mimage\u001b[38;5;241m.\u001b[39mimsave(\n\u001b[0;32m    447\u001b[0m         filename_or_obj, \u001b[38;5;28mself\u001b[39m\u001b[38;5;241m.\u001b[39mbuffer_rgba(), \u001b[38;5;28mformat\u001b[39m\u001b[38;5;241m=\u001b[39mfmt, origin\u001b[38;5;241m=\u001b[39m\u001b[38;5;124m\"\u001b[39m\u001b[38;5;124mupper\u001b[39m\u001b[38;5;124m\"\u001b[39m,\n\u001b[0;32m    448\u001b[0m         dpi\u001b[38;5;241m=\u001b[39m\u001b[38;5;28mself\u001b[39m\u001b[38;5;241m.\u001b[39mfigure\u001b[38;5;241m.\u001b[39mdpi, metadata\u001b[38;5;241m=\u001b[39mmetadata, pil_kwargs\u001b[38;5;241m=\u001b[39mpil_kwargs)\n",
      "File \u001b[1;32mc:\\Users\\KIIT\\anaconda3\\Lib\\site-packages\\matplotlib\\backends\\backend_agg.py:383\u001b[0m, in \u001b[0;36mFigureCanvasAgg.draw\u001b[1;34m(self)\u001b[0m\n\u001b[0;32m    381\u001b[0m \u001b[38;5;28;01mdef\u001b[39;00m \u001b[38;5;21mdraw\u001b[39m(\u001b[38;5;28mself\u001b[39m):\n\u001b[0;32m    382\u001b[0m     \u001b[38;5;66;03m# docstring inherited\u001b[39;00m\n\u001b[1;32m--> 383\u001b[0m     \u001b[38;5;28mself\u001b[39m\u001b[38;5;241m.\u001b[39mrenderer \u001b[38;5;241m=\u001b[39m \u001b[38;5;28mself\u001b[39m\u001b[38;5;241m.\u001b[39mget_renderer()\n\u001b[0;32m    384\u001b[0m     \u001b[38;5;28mself\u001b[39m\u001b[38;5;241m.\u001b[39mrenderer\u001b[38;5;241m.\u001b[39mclear()\n\u001b[0;32m    385\u001b[0m     \u001b[38;5;66;03m# Acquire a lock on the shared font cache.\u001b[39;00m\n",
      "File \u001b[1;32mc:\\Users\\KIIT\\anaconda3\\Lib\\site-packages\\matplotlib\\backends\\backend_agg.py:398\u001b[0m, in \u001b[0;36mFigureCanvasAgg.get_renderer\u001b[1;34m(self)\u001b[0m\n\u001b[0;32m    396\u001b[0m reuse_renderer \u001b[38;5;241m=\u001b[39m (\u001b[38;5;28mself\u001b[39m\u001b[38;5;241m.\u001b[39m_lastKey \u001b[38;5;241m==\u001b[39m key)\n\u001b[0;32m    397\u001b[0m \u001b[38;5;28;01mif\u001b[39;00m \u001b[38;5;129;01mnot\u001b[39;00m reuse_renderer:\n\u001b[1;32m--> 398\u001b[0m     \u001b[38;5;28mself\u001b[39m\u001b[38;5;241m.\u001b[39mrenderer \u001b[38;5;241m=\u001b[39m RendererAgg(w, h, \u001b[38;5;28mself\u001b[39m\u001b[38;5;241m.\u001b[39mfigure\u001b[38;5;241m.\u001b[39mdpi)\n\u001b[0;32m    399\u001b[0m     \u001b[38;5;28mself\u001b[39m\u001b[38;5;241m.\u001b[39m_lastKey \u001b[38;5;241m=\u001b[39m key\n\u001b[0;32m    400\u001b[0m \u001b[38;5;28;01mreturn\u001b[39;00m \u001b[38;5;28mself\u001b[39m\u001b[38;5;241m.\u001b[39mrenderer\n",
      "File \u001b[1;32mc:\\Users\\KIIT\\anaconda3\\Lib\\site-packages\\matplotlib\\backends\\backend_agg.py:70\u001b[0m, in \u001b[0;36mRendererAgg.__init__\u001b[1;34m(self, width, height, dpi)\u001b[0m\n\u001b[0;32m     68\u001b[0m \u001b[38;5;28mself\u001b[39m\u001b[38;5;241m.\u001b[39mwidth \u001b[38;5;241m=\u001b[39m width\n\u001b[0;32m     69\u001b[0m \u001b[38;5;28mself\u001b[39m\u001b[38;5;241m.\u001b[39mheight \u001b[38;5;241m=\u001b[39m height\n\u001b[1;32m---> 70\u001b[0m \u001b[38;5;28mself\u001b[39m\u001b[38;5;241m.\u001b[39m_renderer \u001b[38;5;241m=\u001b[39m _RendererAgg(\u001b[38;5;28mint\u001b[39m(width), \u001b[38;5;28mint\u001b[39m(height), dpi)\n\u001b[0;32m     71\u001b[0m \u001b[38;5;28mself\u001b[39m\u001b[38;5;241m.\u001b[39m_filter_renderers \u001b[38;5;241m=\u001b[39m []\n\u001b[0;32m     73\u001b[0m \u001b[38;5;28mself\u001b[39m\u001b[38;5;241m.\u001b[39m_update_methods()\n",
      "\u001b[1;31mValueError\u001b[0m: Image size of 108646x413 pixels is too large. It must be less than 2^16 in each direction."
     ]
    },
    {
     "data": {
      "text/plain": [
       "<Figure size 640x480 with 1 Axes>"
      ]
     },
     "metadata": {},
     "output_type": "display_data"
    }
   ],
   "source": [
    "\n",
    "# print(hourly_data_df[hourly_data_df['Unnamed: 0']=='time']['hourly'], hourly_data_df[hourly_data_df['Unnamed: 0']=='temperature_2m']['hourly'])\n",
    "x_data = hourly_data_df[hourly_data_df['Unnamed: 0']=='time']['hourly']\n",
    "y_data = hourly_data_df[hourly_data_df['Unnamed: 0']=='temperature_2m']['hourly']\n",
    "\n",
    "# plot the temperature_2m data\n",
    "plt.plot(x_data, y_data)\n"
   ]
  },
  {
   "cell_type": "code",
   "execution_count": null,
   "metadata": {},
   "outputs": [],
   "source": []
  }
 ],
 "metadata": {
  "kernelspec": {
   "display_name": "base",
   "language": "python",
   "name": "python3"
  },
  "language_info": {
   "codemirror_mode": {
    "name": "ipython",
    "version": 3
   },
   "file_extension": ".py",
   "mimetype": "text/x-python",
   "name": "python",
   "nbconvert_exporter": "python",
   "pygments_lexer": "ipython3",
   "version": "3.12.4"
  }
 },
 "nbformat": 4,
 "nbformat_minor": 2
}
